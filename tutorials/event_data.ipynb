{
 "cells": [
  {
   "cell_type": "markdown",
   "id": "cdd7545f",
   "metadata": {},
   "source": [
    "# Making your own `EventData`\n",
    "\n",
    "In this example we will download data from [GWOSC](https://www.gw-openscience.org/) and make our own `EventData` (instead of loading one of the precomputed `npz` files)."
   ]
  },
  {
   "cell_type": "code",
   "execution_count": null,
   "id": "feee6469",
   "metadata": {},
   "outputs": [],
   "source": [
    "%matplotlib notebook"
   ]
  },
  {
   "cell_type": "code",
   "execution_count": null,
   "id": "c93f02e9",
   "metadata": {},
   "outputs": [],
   "source": [
    "path_to_cogwheel = '..'\n",
    "\n",
    "import sys\n",
    "sys.path.append(path_to_cogwheel)\n",
    "\n",
    "import subprocess\n",
    "from matplotlib import pyplot as plt\n",
    "\n",
    "import gwosc\n",
    "\n",
    "from cogwheel import data\n",
    "from cogwheel.posterior import Posterior"
   ]
  },
  {
   "cell_type": "code",
   "execution_count": null,
   "id": "cdcceb84",
   "metadata": {},
   "outputs": [],
   "source": [
    "eventname = 'GW170817'"
   ]
  },
  {
   "cell_type": "markdown",
   "id": "728e0ae9",
   "metadata": {
    "scrolled": false
   },
   "source": [
    "To download the default strain data from GWOSC, we could use the following lines and skip the next cell:\n",
    "\n",
    "    data.download_timeseries(eventname)\n",
    "    filenames = sorted((data.GWOSC_FILES_DIR/eventname).glob('*.hdf5'))\n",
    "   \n",
    "Here we will download [specific hdf5 data files from GWOSC](https://www.gw-openscience.org/eventapi/html/O1_O2-Preliminary/GW170817/v2) instead (with the glitch at Livingston cleaned):"
   ]
  },
  {
   "cell_type": "code",
   "execution_count": null,
   "id": "74d944eb",
   "metadata": {
    "scrolled": true
   },
   "outputs": [],
   "source": [
    "urls = gwosc.locate.get_event_urls('GW170817', version=2)  # Cleaned GW170817\n",
    "\n",
    "outdir = data.GWOSC_FILES_DIR/eventname\n",
    "subprocess.run(['wget', '-P', outdir, *urls])\n",
    "\n",
    "filenames = [outdir/url.split('/')[-1] for url in urls]"
   ]
  },
  {
   "cell_type": "code",
   "execution_count": null,
   "id": "a48713f6",
   "metadata": {},
   "outputs": [],
   "source": [
    "detector_names = ''.join(filename.name[0] for filename in filenames)\n",
    "tgps = gwosc.datasets.event_gps(eventname)"
   ]
  },
  {
   "cell_type": "markdown",
   "id": "5ea2f1ea",
   "metadata": {},
   "source": [
    "Make `EventData` making sure we keep a length of data enough to contain the signal, and that the Nyquist frequency is high enough to capture all available SNR.\n",
    "\n",
    "This estimates the noise power spectrum with the Welch method from the full file and crops, high-passes and whitens a chunk of data. The duration of the chunk of data, that of the Welch segments and the Nyquist frequency are determined by the arguments to `from_timeseries`."
   ]
  },
  {
   "cell_type": "code",
   "execution_count": null,
   "id": "2f36be7e",
   "metadata": {},
   "outputs": [],
   "source": [
    "event_data = data.EventData.from_timeseries(\n",
    "    filenames, eventname.split('-')[0], detector_names, tgps, t_before=128., fmax=1600.)"
   ]
  },
  {
   "cell_type": "markdown",
   "id": "3cc16eff",
   "metadata": {},
   "source": [
    "Plot whitening filter (inverse of the noise amplitude spectral density times a high-pass)"
   ]
  },
  {
   "cell_type": "code",
   "execution_count": null,
   "id": "efc5c597",
   "metadata": {},
   "outputs": [],
   "source": [
    "plt.figure()\n",
    "plt.plot(event_data.frequencies, event_data.wht_filter.T,\n",
    "         label=list(event_data.detector_names))\n",
    "plt.legend()\n",
    "\n",
    "plt.xlabel('Frequency (Hz)')\n",
    "plt.ylabel(r'Whitening filter ($\\sqrt{\\rm Hz}$)')\n",
    "plt.xlim(0)\n",
    "plt.ylim(0);"
   ]
  },
  {
   "cell_type": "markdown",
   "id": "24fbcafc",
   "metadata": {},
   "source": [
    "Plot spectrogram (full file and zoom-in)"
   ]
  },
  {
   "cell_type": "code",
   "execution_count": null,
   "id": "8ddf2067",
   "metadata": {},
   "outputs": [],
   "source": [
    "event_data.specgram()"
   ]
  },
  {
   "cell_type": "code",
   "execution_count": null,
   "id": "59ddd0e0",
   "metadata": {
    "scrolled": false
   },
   "outputs": [],
   "source": [
    "event_data.specgram((-1.5, .5), nfft=200)"
   ]
  },
  {
   "cell_type": "markdown",
   "id": "a42d8405",
   "metadata": {},
   "source": [
    "We can use this `EventData` to make a `Posterior` object.\n",
    "\n",
    "*Note:* `mchirp_guess` is detector frame chirp-mass, should be less than a few sigmas away from the truth. This becomes important for low mass systems like GW170817 whose chirp mass is very well measured."
   ]
  },
  {
   "cell_type": "code",
   "execution_count": null,
   "id": "27627d71",
   "metadata": {},
   "outputs": [],
   "source": [
    "mchirp_guess = 1.198\n",
    "post = Posterior.from_event(event_data, mchirp_guess, 'IMRPhenomXPHM', 'LVCPrior')"
   ]
  },
  {
   "cell_type": "markdown",
   "id": "005f3c7f",
   "metadata": {},
   "source": [
    "We can save the event data and/or the posterior to use later:\n",
    "    \n",
    "    event_data.to_npz()\n",
    "    post.to_json(dirname)  # Then load with cogwheel.utils.read_json()"
   ]
  }
 ],
 "metadata": {
  "kernelspec": {
   "display_name": "Python 3 (ipykernel)",
   "language": "python",
   "name": "python3"
  },
  "language_info": {
   "codemirror_mode": {
    "name": "ipython",
    "version": 3
   },
   "file_extension": ".py",
   "mimetype": "text/x-python",
   "name": "python",
   "nbconvert_exporter": "python",
   "pygments_lexer": "ipython3",
   "version": "3.9.7"
  }
 },
 "nbformat": 4,
 "nbformat_minor": 5
}
